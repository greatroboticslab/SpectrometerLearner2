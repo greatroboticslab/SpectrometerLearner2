{
 "cells": [
  {
   "cell_type": "code",
   "execution_count": null,
   "metadata": {},
   "outputs": [],
   "source": [
    "from modules.csv_processor import CSVProcessor\n",
    "from tsai.all import *\n",
    "from sklearn.model_selection import train_test_split\n",
    "from fastai.tabular.all import *\n",
    "from fastai.tabular.all import *\n"
   ]
  },
  {
   "cell_type": "code",
   "execution_count": null,
   "metadata": {},
   "outputs": [],
   "source": [
    "processor = CSVProcessor(\"./Dataset\")\n",
    "X_train, y_train = processor.split()\n",
    "X_train, X_test, y_train, y_test = train_test_split(X_train, y_train, test_size=0.2, random_state=42)"
   ]
  },
  {
   "cell_type": "code",
   "execution_count": null,
   "metadata": {},
   "outputs": [],
   "source": [
    "splits = RandomSplitter(valid_pct=0.2)(range_of(X_train))\n",
    "procs = [Normalize]\n",
    "cat_names = []\n",
    "cont_names = list(X_train.columns)\n",
    "y_names = None\n",
    "\n",
    "\n",
    "to = TabularPandas(X_train, y_train, cat_names=cat_names, cont_names=cont_names, y_names=y_names, splits=splits)\n",
    "to.procs = procs\n",
    "\n",
    "\n",
    "dls = to.dataloaders(bs=64)"
   ]
  },
  {
   "cell_type": "code",
   "execution_count": null,
   "metadata": {},
   "outputs": [],
   "source": [
    "n_out = len(np.unique(y_train))"
   ]
  },
  {
   "cell_type": "code",
   "execution_count": null,
   "metadata": {},
   "outputs": [],
   "source": [
    "loss_func = CrossEntropyLossFlat()"
   ]
  },
  {
   "cell_type": "code",
   "execution_count": null,
   "metadata": {},
   "outputs": [],
   "source": [
    "model = tabular_learner(dls, metrics=accuracy, n_out=n_out, loss_func=loss_func)\n",
    "\n",
    "n_epochs = 5\n",
    "lr_max = 1e-3\n",
    "learn = Learner(dls, model, loss_func=loss_func)\n",
    "learn.opt = learn.opt_func(learn.splitter(model), lr=lr_max)\n",
    "learn.freeze()\n",
    "for epoch in range(n_epochs):\n",
    "    learn.model.train()\n",
    "    for xb, yb in dls.train:\n",
    "        learn.opt.zero_grad()\n",
    "        preds = learn.model(*xb)  \n",
    "        loss = learn.loss_func(preds, *yb)  \n",
    "        loss.backward()\n",
    "        learn.opt.step()\n",
    "    learn.model.eval()\n",
    "    tot_loss, tot_acc = 0., 0.\n",
    "    with torch.no_grad():\n",
    "        for xb, yb in dls.valid:\n",
    "            preds = learn.model(*xb) \n",
    "            loss = learn.loss_func(preds, *yb) \n",
    "            tot_loss += loss.item()\n",
    "            tot_acc += accuracy(preds, *yb)\n",
    "    n = len(dls.valid)\n",
    "    print(f\"Epoch {epoch+1}/{n_epochs}, validation loss: {tot_loss/n}, validation accuracy: {tot_acc/n}\")"
   ]
  },
  {
   "cell_type": "code",
   "execution_count": null,
   "metadata": {},
   "outputs": [],
   "source": [
    "learn = Learner(dls, model)\n",
    "learn.fit_one_cycle(5, lr_max=1e-3)"
   ]
  }
 ],
 "metadata": {
  "kernelspec": {
   "display_name": ".venv",
   "language": "python",
   "name": "python3"
  },
  "language_info": {
   "codemirror_mode": {
    "name": "ipython",
    "version": 3
   },
   "file_extension": ".py",
   "mimetype": "text/x-python",
   "name": "python",
   "nbconvert_exporter": "python",
   "pygments_lexer": "ipython3",
   "version": "3.10.7"
  },
  "orig_nbformat": 4
 },
 "nbformat": 4,
 "nbformat_minor": 2
}
